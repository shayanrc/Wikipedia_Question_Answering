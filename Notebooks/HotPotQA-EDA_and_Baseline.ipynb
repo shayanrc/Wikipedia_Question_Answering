{
 "cells": [
  {
   "cell_type": "code",
   "execution_count": 83,
   "id": "rolled-timing",
   "metadata": {},
   "outputs": [],
   "source": [
    "import requests\n",
    "\n",
    "import io\n",
    "\n",
    "import pandas as pd\n",
    "\n",
    "import matplotlib.pyplot as plt"
   ]
  },
  {
   "cell_type": "code",
   "execution_count": 85,
   "id": "criminal-wisdom",
   "metadata": {},
   "outputs": [],
   "source": [
    "%matplotlib inline"
   ]
  },
  {
   "cell_type": "code",
   "execution_count": 2,
   "id": "separated-photography",
   "metadata": {},
   "outputs": [],
   "source": [
    "%config Completer.use_jedi = False"
   ]
  },
  {
   "cell_type": "markdown",
   "id": "polar-absolute",
   "metadata": {},
   "source": [
    "# Data Acquisition\n",
    "Load it directly from URL"
   ]
  },
  {
   "cell_type": "code",
   "execution_count": 6,
   "id": "surgical-print",
   "metadata": {},
   "outputs": [],
   "source": [
    "resp = requests.get('http://curtis.ml.cmu.edu/datasets/hotpot/hotpot_train_v1.1.json')\n",
    "\n",
    "data_json = resp.json()"
   ]
  },
  {
   "cell_type": "markdown",
   "id": "nervous-purple",
   "metadata": {},
   "source": [
    "**Optional but Recomended**: Save the dataset to disk (Downloading 500 mb every time you run this will get tedious)"
   ]
  },
  {
   "cell_type": "code",
   "execution_count": 154,
   "id": "promising-grocery",
   "metadata": {},
   "outputs": [],
   "source": [
    "import json\n",
    "\n",
    "with open('Data/hotpot_train_v1.1.json', mode='w+') as json_file:\n",
    "    json.dump(data_json, json_file)"
   ]
  },
  {
   "cell_type": "code",
   "execution_count": 8,
   "id": "variable-bunch",
   "metadata": {},
   "outputs": [
    {
     "data": {
      "text/plain": [
       "90447"
      ]
     },
     "execution_count": 8,
     "metadata": {},
     "output_type": "execute_result"
    }
   ],
   "source": [
    "len(data_json)"
   ]
  },
  {
   "cell_type": "code",
   "execution_count": 16,
   "id": "operating-eligibility",
   "metadata": {},
   "outputs": [],
   "source": [
    "df = pd.DataFrame.from_records(data_json)"
   ]
  },
  {
   "cell_type": "code",
   "execution_count": 18,
   "id": "compliant-giant",
   "metadata": {},
   "outputs": [
    {
     "data": {
      "text/plain": [
       "Index(['supporting_facts', 'level', 'question', 'context', 'answer', '_id',\n",
       "       'type'],\n",
       "      dtype='object')"
      ]
     },
     "execution_count": 18,
     "metadata": {},
     "output_type": "execute_result"
    }
   ],
   "source": [
    "df.columns"
   ]
  },
  {
   "cell_type": "markdown",
   "id": "wound-clinic",
   "metadata": {},
   "source": [
    "# EDA\n",
    "## `level`"
   ]
  },
  {
   "cell_type": "code",
   "execution_count": 88,
   "id": "improved-favor",
   "metadata": {},
   "outputs": [
    {
     "data": {
      "text/plain": [
       "array(['medium', 'hard', 'easy'], dtype=object)"
      ]
     },
     "execution_count": 88,
     "metadata": {},
     "output_type": "execute_result"
    }
   ],
   "source": [
    "df.level.unique()"
   ]
  },
  {
   "cell_type": "code",
   "execution_count": 89,
   "id": "healthy-brazilian",
   "metadata": {},
   "outputs": [
    {
     "data": {
      "text/plain": [
       "<AxesSubplot:xlabel='level'>"
      ]
     },
     "execution_count": 89,
     "metadata": {},
     "output_type": "execute_result"
    },
    {
     "data": {
      "image/png": "[encoded data removed]",
      "text/plain": [
       "<Figure size 432x288 with 1 Axes>"
      ]
     },
     "metadata": {
      "needs_background": "light"
     },
     "output_type": "display_data"
    }
   ],
   "source": [
    "df.groupby('level')['_id'].count().plot.bar()"
   ]
  },
  {
   "cell_type": "markdown",
   "id": "rotary-butter",
   "metadata": {},
   "source": [
    "## `type`"
   ]
  },
  {
   "cell_type": "code",
   "execution_count": 19,
   "id": "presidential-shape",
   "metadata": {},
   "outputs": [
    {
     "data": {
      "text/plain": [
       "array(['comparison', 'bridge'], dtype=object)"
      ]
     },
     "execution_count": 19,
     "metadata": {},
     "output_type": "execute_result"
    }
   ],
   "source": [
    "df.type.unique()"
   ]
  },
  {
   "cell_type": "code",
   "execution_count": 87,
   "id": "beneficial-split",
   "metadata": {},
   "outputs": [
    {
     "data": {
      "text/plain": [
       "<AxesSubplot:xlabel='type'>"
      ]
     },
     "execution_count": 87,
     "metadata": {},
     "output_type": "execute_result"
    },
    {
     "data": {
      "image/png": "[encoded data removed]",
      "text/plain": [
       "<Figure size 432x288 with 1 Axes>"
      ]
     },
     "metadata": {
      "needs_background": "light"
     },
     "output_type": "display_data"
    }
   ],
   "source": [
    "# fig=plt.Figure(figsize=(14,5))\n",
    "# ax = fig.add_subplot(111)\n",
    "df.groupby('type')['_id'].count().plot.bar()"
   ]
  },
  {
   "cell_type": "markdown",
   "id": "excellent-contrast",
   "metadata": {},
   "source": [
    "Let's have a quick look at each `type` of question"
   ]
  },
  {
   "cell_type": "markdown",
   "id": "specific-asset",
   "metadata": {},
   "source": [
    "### `Comparison` Type Questions"
   ]
  },
  {
   "cell_type": "code",
   "execution_count": 74,
   "id": "experimental-reflection",
   "metadata": {},
   "outputs": [],
   "source": [
    "sample_question = df[df.type=='comparison'].sample()"
   ]
  },
  {
   "cell_type": "code",
   "execution_count": 75,
   "id": "numerous-playing",
   "metadata": {},
   "outputs": [
    {
     "data": {
      "text/plain": [
       "array(['Liberty University and University of Waterloo are both what?'],\n",
       "      dtype=object)"
      ]
     },
     "execution_count": 75,
     "metadata": {},
     "output_type": "execute_result"
    }
   ],
   "source": [
    "sample_question.question.values"
   ]
  },
  {
   "cell_type": "code",
   "execution_count": 76,
   "id": "framed-technical",
   "metadata": {},
   "outputs": [
    {
     "data": {
      "text/plain": [
       "array(['medium'], dtype=object)"
      ]
     },
     "execution_count": 76,
     "metadata": {},
     "output_type": "execute_result"
    }
   ],
   "source": [
    "sample_question.level.values"
   ]
  },
  {
   "cell_type": "code",
   "execution_count": 77,
   "id": "excited-punishment",
   "metadata": {},
   "outputs": [
    {
     "data": {
      "text/plain": [
       "[['Scott Jackson (baseball)',\n",
       "  ['Scott Jackson is an American baseball coach, currently serving as the head baseball coach at Liberty University.',\n",
       "   ' Jackson attended college at Campbell University and played on the Campbell Fighting Camels baseball team.',\n",
       "   ' Jackson served as an assistant baseball coach and recruiting coordinator at the University of North Carolina at Chapel Hill from 2009 to 2016.',\n",
       "   ' Jackson was named head baseball coach at Liberty University on July 17, 2016.']],\n",
       " ['University of Waterloo',\n",
       "  ['The University of Waterloo (commonly referred to as Waterloo, UW or UWaterloo) is a public research university with a main campus in Waterloo, Ontario.',\n",
       "   ' The main campus is on 404 ha of land in \"Uptown\" Waterloo, adjacent to Waterloo Park.',\n",
       "   ' The university offers academic programs administered by six faculties and ten faculty-based schools.',\n",
       "   ' The university also operates four satellite campuses and four affiliated university colleges.',\n",
       "   ' Waterloo is a member of the U15, a group of research-intensive universities in Canada.',\n",
       "   ' University of Waterloo is most famous for its cooperative education (co-op) programs, which allow the students to integrate their education with applicable work experiences.',\n",
       "   ' University of Waterloo operates the largest post secondary co-op program of its kind in the world, with over 19,000 co-op students and 5,200 employers.']],\n",
       " ['Liberty University',\n",
       "  ['Liberty University (also referred to as Liberty or LU) is a private, non-profit Christian research university located in Lynchburg, Virginia, United States.',\n",
       "   ' It is classified as a doctoral research university by the Carnegie Classification.']],\n",
       " ['Shaw Hall',\n",
       "  ['Shaw Hall is a historic dormitory located on the campus of West Liberty University at West Liberty, Ohio County, West Virginia.',\n",
       "   ' It was built in 1919-1920, and is a three-story red brick building in the Classical Revival style.',\n",
       "   ' The front and end facades are dominated by two-story porticos with Ionic order columns having a stucco shaft.',\n",
       "   ' It was built as the first dormitory on campus and housed female students.',\n",
       "   ' It is the oldest building on the campus of West Liberty University.',\n",
       "   ' The building now houses classrooms and administrative offices.',\n",
       "   ' The building is named for John C. Shaw, president of West Liberty Normal School from 1908-1919.']],\n",
       " ['West Liberty University',\n",
       "  ['West Liberty University is a public university in West Liberty, West Virginia, United States, near Wheeling.',\n",
       "   \" West Liberty University is West Virginia's oldest institution of higher education.\",\n",
       "   ' While dental hygiene as well as elementary and secondary education are the most common majors, WLU provides a variety of other programs including digital media design, athletic training, business management and Appalachian studies.',\n",
       "   \" The University's Graduate Programs include Masters of Science in Physicians Assistant Studies, Masters of Criminology, Masters of Arts in Education, and more.\",\n",
       "   ' The school\\'s athletic teams, known as the \"Hilltoppers\", compete in the NCAA Division II Mountain East Conference.']],\n",
       " ['Williams Stadium',\n",
       "  ['Arthur L. Williams Stadium is a 19,200 seat football stadium located on the campus of Liberty University in Lynchburg, Virginia, USA.',\n",
       "   ' The stadium was built in 1989 and plays host to Liberty Flames football, which is a part of the NCAA Division I - Football Championship Subdivision (FCS).',\n",
       "   ' A new field house has recently been constructed at the north end of the stadium.',\n",
       "   ' This new facility houses a new home locker room, coaches offices, meeting rooms and training facility as well as a 16000 sqft weight room.',\n",
       "   ' In the 2009 off season, Liberty University added a video scoreboard on the north end of the field.',\n",
       "   ' It is one of the largest in the FCS at 20 feet tall and 36 feet wide.',\n",
       "   ' In September 2011, a ribbon video board was added to the facade of the upper deck; Williams Stadium thus became the first FCS football stadium to have a ribbon board.']],\n",
       " ['Liberty University School of Law',\n",
       "  ['The Liberty University School of Law is the law school of Liberty University, a private Evangelical Christian university in Lynchburg, Virginia.',\n",
       "   ' According to its website, \"Liberty University School of Law is a law school committed to academic and professional excellence in the context of the Christian intellectual tradition.',\n",
       "   ' We are a law school where what is taught comports with history, objective reality, morality, and common sense.',\n",
       "   ' We seek to produce highly skilled practitioners of law who are capable of making positive contributions to their respective legal bars and communities.\"',\n",
       "   ' The School of Law offers the following degrees in law: J.D., L.L.M., and J.M.']],\n",
       " ['Elmer L. Towns',\n",
       "  ['Elmer L. Towns (born 1932) is co-founder of Liberty University, the largest private, non-profit university in the world.',\n",
       "   ' Towns is also a prominent Christian leader, author and speaker on the principles of church growth, church leadership, Christian education, Sunday School, and prayer and fasting.',\n",
       "   ' He has authored over 170 books, 8 of which are listed on the Christian Booksellers Association Best Selling List.',\n",
       "   ' In 1995, he received the Gold Medallion Award from the Evangelical Christian Booksellers Association for Book of the Year in Biblical Study, \"The Names of the Holy Spirit\".',\n",
       "   ' Most recently Towns served as Dean of the B. R. Lakin School of Religion, Dean of Liberty University Baptist Theological Seminary and Distinguished Professor of Systematic Theology at Liberty University.',\n",
       "   ' In the Fall of 2013, Towns announced he would be taking a sabbatical from his teaching and administration duties to focus on speaking and writing.']],\n",
       " ['List of Liberty University people',\n",
       "  ['The list of Liberty University people includes notable graduates, professors, honorary degree recipients, and other people affiliated with Liberty University.']],\n",
       " ['Liberty Flames and Lady Flames',\n",
       "  ['The Liberty Flames and Lady Flames are the athletics teams of Liberty University, in Lynchburg, Virginia, United States.',\n",
       "   ' They are a member of the NCAA Division I level in 20 sports.',\n",
       "   ' LU is a member of the Big South Conference for most sports.',\n",
       "   ' Two sports that are not sponsored by the Big South are housed elsewhere.',\n",
       "   \" Women's swimming competes in the Coastal Collegiate Sports Association.\",\n",
       "   \" The field hockey team was a member of the Northern Pacific Field Hockey Conference before that league's demise after the 2014 season.\",\n",
       "   ' After playing the 2015 season as an independent, the team joined the Big East Conference in 2016.',\n",
       "   ' In football, Liberty participates in the Football Championship Subdivision (FCS) of Division I, formerly known as Division I-AA.',\n",
       "   ' The mascot, Sparky, is frequently seen at events.',\n",
       "   ' Liberty University is the second youngest school in NCAA Division I, founded in 1971 (the youngest, Florida Gulf Coast University, was founded in 1991).',\n",
       "   \" The University regularly competes for the Sasser Cup, which is the Big South's trophy for the university which has the best sports program among the member institutions.\",\n",
       "   ' Liberty has won the Sasser Cup 10 times, the most in Big South Conference history.']]]"
      ]
     },
     "execution_count": 77,
     "metadata": {},
     "output_type": "execute_result"
    }
   ],
   "source": [
    "sample_question.context.values[0]"
   ]
  },
  {
   "cell_type": "code",
   "execution_count": 78,
   "id": "average-windows",
   "metadata": {},
   "outputs": [
    {
     "data": {
      "text/plain": [
       "71598    research university\n",
       "Name: answer, dtype: object"
      ]
     },
     "execution_count": 78,
     "metadata": {},
     "output_type": "execute_result"
    }
   ],
   "source": [
    "sample_question.answer"
   ]
  },
  {
   "cell_type": "code",
   "execution_count": 32,
   "id": "similar-introduction",
   "metadata": {},
   "outputs": [
    {
     "data": {
      "text/plain": [
       "array([list([['University of Alabama in Huntsville', 0], ['Kasetsart University', 0]])],\n",
       "      dtype=object)"
      ]
     },
     "execution_count": 32,
     "metadata": {},
     "output_type": "execute_result"
    }
   ],
   "source": [
    "sample_question.supporting_facts.values"
   ]
  },
  {
   "cell_type": "markdown",
   "id": "physical-gravity",
   "metadata": {},
   "source": [
    "### `Bridge` Type Questions"
   ]
  },
  {
   "cell_type": "code",
   "execution_count": 155,
   "id": "located-tragedy",
   "metadata": {},
   "outputs": [
    {
     "data": {
      "text/plain": [
       "array(['Toni Lopopolo is a literary agent whose book publishing career began in 1970 in the publicity department of Bantam Books, where she helped publicize authors such as which English author of romance novels, one of the best-selling authors as well as one of the most prolific and commercially successful worldwide of the twentieth century, with her 723 novels were translated into 38 languages and she continues to be referenced in the \"Guinness World Records\" for the most novels published in a single year in 1976?'],\n",
       "      dtype=object)"
      ]
     },
     "execution_count": 155,
     "metadata": {},
     "output_type": "execute_result"
    }
   ],
   "source": [
    "sample_question = df[(df.type=='bridge') & (df.level=='easy')].sample()\n",
    "\n",
    "sample_question.question.values"
   ]
  },
  {
   "cell_type": "code",
   "execution_count": 157,
   "id": "educational-harmony",
   "metadata": {},
   "outputs": [
    {
     "data": {
      "text/plain": [
       "array(['easy'], dtype=object)"
      ]
     },
     "execution_count": 157,
     "metadata": {},
     "output_type": "execute_result"
    }
   ],
   "source": [
    "sample_question.level.values"
   ]
  },
  {
   "cell_type": "code",
   "execution_count": 158,
   "id": "local-majority",
   "metadata": {},
   "outputs": [
    {
     "data": {
      "text/plain": [
       "[\"Indiana Jones and the Philosopher's Stone\",\n",
       " [\"Indiana Jones and the Philosopher's Stone is the ninth of 12 Indiana Jones novels published by Bantam Books.\",\n",
       "  ' Max McCoy, the author of this book, also wrote three of the other Indiana Jones books for Bantam.',\n",
       "  ' Published on April 1, 1995, it is preceded by \"Indiana Jones and the White Witch\" and followed by \"Indiana Jones and the Dinosaur Eggs\".']]"
      ]
     },
     "execution_count": 158,
     "metadata": {},
     "output_type": "execute_result"
    }
   ],
   "source": [
    "sample_question.context.values[0][1]"
   ]
  },
  {
   "cell_type": "code",
   "execution_count": 159,
   "id": "acting-treat",
   "metadata": {},
   "outputs": [
    {
     "data": {
      "text/plain": [
       "[['Transworld Publishers',\n",
       "  [\"Transworld Publishers Inc. is a British publishing division of Random House and belongs to Bertelsmann, one of the world's largest media groups.\",\n",
       "   ' It was established in 1950, and for many years it was the British division of Bantam Books.',\n",
       "   ' It publishes fiction and non fiction titles by various best-selling authors including Val Wood under several different imprints. Hardbacks are either published under the Doubleday or the Bantam Press imprint, whereas paperbacks are published under the Black Swan, Bantam or Corgi imprint.']],\n",
       " [\"Indiana Jones and the Philosopher's Stone\",\n",
       "  [\"Indiana Jones and the Philosopher's Stone is the ninth of 12 Indiana Jones novels published by Bantam Books.\",\n",
       "   ' Max McCoy, the author of this book, also wrote three of the other Indiana Jones books for Bantam.',\n",
       "   ' Published on April 1, 1995, it is preceded by \"Indiana Jones and the White Witch\" and followed by \"Indiana Jones and the Dinosaur Eggs\".']],\n",
       " ['Barbara Cartland',\n",
       "  ['Dame Mary Barbara Hamilton Cartland DBE CStJ (9 July 1901 – 21 May 2000) was an English author of romance novels, one of the best-selling authors as well as one of the most prolific and commercially successful worldwide of the twentieth century.',\n",
       "   ' Her 723 novels were translated into 38 languages and she continues to be referenced in the \"Guinness World Records\" for the most novels published in a single year in 1976.',\n",
       "   ' As Barbara Cartland she is known for her numerous romantic novels but she also wrote under her married name of Barbara McCorquodale and briefly under the pseudonym of Marcus Belfry.',\n",
       "   ' She wrote more than 700 books, as well as plays, music, verse, drama, magazine articles and operetta, and was a prominent philanthropist.',\n",
       "   ' She reportedly sold more than 750 million copies.',\n",
       "   ' Other sources estimate her book sales at more than two billion copies.',\n",
       "   ' She specialised in 19th-century Victorian era pure romance.',\n",
       "   ' Her novels all featured portrait-style artwork, particularly the cover art, usually designed by Frances Marshall.']],\n",
       " ['List of prolific writers',\n",
       "  ['Some writers have had prolific careers with hundreds of their works being published.',\n",
       "   ' While some best-selling authors have written a small number of books that have sold millions of copies, others have had lengthy careers and maintained a high level of output year after year.',\n",
       "   ' Dame Agatha Christie, the most-published novelist in history, is estimated to have sold 4 billion books, having written 69 novels and 19 plays.',\n",
       "   ' Her works were published between 1920 and 1976, equating to around three publications every two years.',\n",
       "   ' Dame Barbara Cartland has also sold millions of copies of her books but wrote many more than Christie.',\n",
       "   ' She spent 80 years as a novelist with 722 books published, averaging one book released every 40 days of her career.',\n",
       "   ' While Cartland wrote a significant number of full-length novels, other authors have been published many more times but have specialised in short stories.',\n",
       "   ' Spanish author Corín Tellado wrote over 5,000 novellas, selling 400 million copies of her books.']],\n",
       " ['Indiana Jones and the Peril at Delphi',\n",
       "  ['Indiana Jones and the Peril at Delphi is the first of 12 Indiana Jones novels published by Bantam Books.',\n",
       "   ' Rob MacGregor, the author of this book, also wrote five of the other Indiana Jones books for Bantam.',\n",
       "   ' It was published January 1, 1991 and was followed by \"Indiana Jones and the Dance of the Giants\".']],\n",
       " ['List of best-selling singles',\n",
       "  ['According to \"Guinness World Records\", \"White Christmas\" (1942) by Bing Crosby is the best-selling single worldwide, with estimated sales of over 50 million copies.',\n",
       "   ' The song recognized as \"the best-selling single of all time\" was released before the pop/rock singles-chart era and \"was listed as the world\\'s best-selling single in the first-ever \"Guinness Book of Records\" (published in 1955) and—remarkably—still retains the title more than 50 years later.\"',\n",
       "   ' \"Guinness World Records\" states that double A-side charity single \"Candle in the Wind 1997\"/\"Something About the Way You Look Tonight\" (1997) by Elton John, a tribute to the late Diana, Princess of Wales, is \"the biggest-selling single since UK and US singles charts began in the 1950s, having accumulated worldwide sales of 33 million copies,\" making it the second-best-selling single of all time.']],\n",
       " ['Indiana Jones and the Dance of the Giants',\n",
       "  ['Indiana Jones and the Dance of the Giants is the second of 12 Indiana Jones novels published by Bantam Books.',\n",
       "   ' Rob MacGregor, the author of this book, also wrote five of the other Indiana Jones books for Bantam.',\n",
       "   ' Published on May 1, 1991, it is preceded by \"Indiana Jones and the Peril at Delphi\" and followed by \"Indiana Jones and the Seven Veils\".']],\n",
       " ['Tagalog pocketbooks',\n",
       "  ['According to Tatin Yang in the article \"Romansang Pinoy: A day with Tagalog romance novels\", Tagalog romance paperbacks were thin Philippine versions of romance novel books that could be found at the bottom shelves of the romance section of bookstores, wrapped and bound with book covers that are decorated with Philippine comics-styled illustrations, such as \"a barrio landscape with a badly dressed guy and girl locked in an embrace\".',\n",
       "   ' As a form of \"escapist fiction\" (escapism) and \"commercial literature\", Tagalog romance novels generally follow a \"strict romance formula\", meaning the narratives have happy endings (a factor influencing the salability of the novel), the protagonists are wealthy, good-looking, smart, and characters that cannot die.',\n",
       "   ' Normally, the hero or heroine of the story falls in love and \"goes crazy\" over the admired person.',\n",
       "   ' However, later authors of Tagalog romance novels deviated from portraying so-called \"damsel-in-distress and knight-in-shining-armor characters\".',\n",
       "   ' Contemporary writers also turned away from writing \"rags-to-riches plots\".',\n",
       "   ' The stereotypical norm had been replaced by the incorporation of storylines with \"interesting scenes, characters [who are ready to face challenges or to sacrifice themselves for the benefit of other people], dialogues, and new angles to old plots\".',\n",
       "   ' Authors such as Maria Teresa Cruz San Diego, who used the pen names Maia Jose and Tisha Nicole, ventured into the fantasy romance genre, and into topics that are related to politics, ecology, gender issues, prostitution, mail-order bride syndicates, white slavery, non-governmental organizations, and breastfeeding programs.',\n",
       "   ' Apart from writing about ideal lovers (men and women) and ideal situations, other novelists wrote about true-to-life settings, or at least based the stories from personal experiences.',\n",
       "   ' Thus, Tagalog romance novels came to mirror or replicate the \"roles that women and men play\" in Philippine society.']],\n",
       " ['Indiana Jones and the Seven Veils',\n",
       "  ['Indiana Jones and the Seven Veils is the third of 12 Indiana Jones novels published by Bantam Books.',\n",
       "   ' Rob MacGregor, the author of this book, also wrote five of the other Indiana Jones books for Bantam.',\n",
       "   ' Published on November 1, 1991, it is preceded by \"Indiana Jones and the Dance of the Giants\" and followed by \"Indiana Jones and the Genesis Deluge\".']],\n",
       " ['Toni Lopopolo',\n",
       "  [\"Toni Lopopolo is a literary agent whose book publishing career began in 1970 in the publicity department of Bantam Books, where she helped publicize authors such as Philip Roth, Barbara Cartland, Isaac Asimov and Louis L'Amour.\"]]]"
      ]
     },
     "execution_count": 159,
     "metadata": {},
     "output_type": "execute_result"
    }
   ],
   "source": [
    "sample_question.context.values[0]"
   ]
  },
  {
   "cell_type": "code",
   "execution_count": 160,
   "id": "wrong-graphics",
   "metadata": {},
   "outputs": [
    {
     "data": {
      "text/plain": [
       "87923    Barbara Cartland\n",
       "Name: answer, dtype: object"
      ]
     },
     "execution_count": 160,
     "metadata": {},
     "output_type": "execute_result"
    }
   ],
   "source": [
    "sample_question.answer"
   ]
  },
  {
   "cell_type": "code",
   "execution_count": 161,
   "id": "exclusive-bones",
   "metadata": {},
   "outputs": [
    {
     "data": {
      "text/plain": [
       "[['Toni Lopopolo', 0], ['Barbara Cartland', 0]]"
      ]
     },
     "execution_count": 161,
     "metadata": {},
     "output_type": "execute_result"
    }
   ],
   "source": [
    "sample_question.supporting_facts.values[0]"
   ]
  },
  {
   "cell_type": "markdown",
   "id": "incorporated-polyester",
   "metadata": {},
   "source": [
    "### Types and Levels"
   ]
  },
  {
   "cell_type": "code",
   "execution_count": 98,
   "id": "underlying-local",
   "metadata": {},
   "outputs": [
    {
     "data": {
      "text/plain": [
       "<AxesSubplot:xlabel='type,level'>"
      ]
     },
     "execution_count": 98,
     "metadata": {},
     "output_type": "execute_result"
    },
    {
     "data": {
      "image/png": "[encoded data removed]",
      "text/plain": [
       "<Figure size 432x288 with 1 Axes>"
      ]
     },
     "metadata": {
      "needs_background": "light"
     },
     "output_type": "display_data"
    }
   ],
   "source": [
    "df.groupby(['type', 'level'])['_id'].count().rename({'_id': 'count'}, axis=1).plot.bar()"
   ]
  },
  {
   "cell_type": "markdown",
   "id": "reserved-highland",
   "metadata": {},
   "source": [
    "## `supporting_facts`"
   ]
  },
  {
   "cell_type": "code",
   "execution_count": 109,
   "id": "completed-landscape",
   "metadata": {},
   "outputs": [],
   "source": [
    "df['num_supporting_facts'] = df.supporting_facts.map(lambda x: len(x))"
   ]
  },
  {
   "cell_type": "code",
   "execution_count": 115,
   "id": "intimate-estonia",
   "metadata": {},
   "outputs": [
    {
     "data": {
      "text/plain": [
       "count    90447.000000\n",
       "mean         2.384645\n",
       "std          0.672890\n",
       "min          2.000000\n",
       "25%          2.000000\n",
       "50%          2.000000\n",
       "75%          3.000000\n",
       "max         12.000000\n",
       "Name: num_supporting_facts, dtype: float64"
      ]
     },
     "execution_count": 115,
     "metadata": {},
     "output_type": "execute_result"
    }
   ],
   "source": [
    "df['num_supporting_facts'].describe()"
   ]
  },
  {
   "cell_type": "code",
   "execution_count": 113,
   "id": "breathing-desire",
   "metadata": {},
   "outputs": [
    {
     "data": {
      "text/plain": [
       "<AxesSubplot:xlabel='num_supporting_facts'>"
      ]
     },
     "execution_count": 113,
     "metadata": {},
     "output_type": "execute_result"
    },
    {
     "data": {
      "image/png": "[encoded data removed]",
      "text/plain": [
       "<Figure size 432x288 with 1 Axes>"
      ]
     },
     "metadata": {
      "needs_background": "light"
     },
     "output_type": "display_data"
    }
   ],
   "source": [
    "df.groupby('num_supporting_facts')['supporting_facts'].count().plot(kind='bar')"
   ]
  },
  {
   "cell_type": "markdown",
   "id": "general-plastic",
   "metadata": {},
   "source": [
    "## First Words"
   ]
  },
  {
   "cell_type": "code",
   "execution_count": 129,
   "id": "still-lebanon",
   "metadata": {},
   "outputs": [],
   "source": [
    "first_word = df.answer.str.split(' ').map(lambda x: ' '.join(x[:3]))"
   ]
  },
  {
   "cell_type": "code",
   "execution_count": 141,
   "id": "christian-observation",
   "metadata": {},
   "outputs": [
    {
     "data": {
      "text/plain": [
       "37823    Corrosion of Conformity\n",
       "87640          Touching the Void\n",
       "15770       The Border Surrender\n",
       "67813                        yes\n",
       "4957                         yes\n",
       "15289                Spike Jonze\n",
       "10930                        yes\n",
       "51748                      films\n",
       "22670      El Paso International\n",
       "52910                     writer\n",
       "Name: answer, dtype: object"
      ]
     },
     "execution_count": 141,
     "metadata": {},
     "output_type": "execute_result"
    }
   ],
   "source": [
    "first_word[df.type!='bridge'].sample(10)"
   ]
  },
  {
   "cell_type": "markdown",
   "id": "reported-agent",
   "metadata": {},
   "source": [
    "## Yes or No Questions"
   ]
  },
  {
   "cell_type": "code",
   "execution_count": 146,
   "id": "plastic-departure",
   "metadata": {},
   "outputs": [],
   "source": [
    "yes_no_ques_idx = (df.answer.str.startswith('yes')) | (df.answer.str.startswith('no'))"
   ]
  },
  {
   "cell_type": "code",
   "execution_count": 147,
   "id": "answering-gauge",
   "metadata": {},
   "outputs": [
    {
     "data": {
      "text/plain": [
       "type\n",
       "bridge          58\n",
       "comparison    5528\n",
       "Name: type, dtype: int64"
      ]
     },
     "execution_count": 147,
     "metadata": {},
     "output_type": "execute_result"
    }
   ],
   "source": [
    "df[yes_no_ques_idx].groupby('type')['type'].count()"
   ]
  },
  {
   "cell_type": "code",
   "execution_count": 148,
   "id": "skilled-cooling",
   "metadata": {},
   "outputs": [
    {
     "data": {
      "text/plain": [
       "type        level \n",
       "bridge      easy        12\n",
       "            hard        24\n",
       "            medium      22\n",
       "comparison  easy       533\n",
       "            hard      1034\n",
       "            medium    3961\n",
       "Name: type, dtype: int64"
      ]
     },
     "execution_count": 148,
     "metadata": {},
     "output_type": "execute_result"
    }
   ],
   "source": [
    "df[yes_no_ques_idx].groupby(['type', 'level'])['type'].count()"
   ]
  },
  {
   "cell_type": "code",
   "execution_count": 149,
   "id": "duplicate-momentum",
   "metadata": {},
   "outputs": [
    {
     "data": {
      "text/plain": [
       "90447"
      ]
     },
     "execution_count": 149,
     "metadata": {},
     "output_type": "execute_result"
    }
   ],
   "source": [
    "df.shape[0]"
   ]
  },
  {
   "cell_type": "markdown",
   "id": "sudden-wisdom",
   "metadata": {
    "tags": []
   },
   "source": [
    "# Tokenizer Tests"
   ]
  },
  {
   "cell_type": "code",
   "execution_count": 162,
   "id": "sublime-meaning",
   "metadata": {},
   "outputs": [],
   "source": [
    "import sentencepiece as spm"
   ]
  },
  {
   "cell_type": "code",
   "execution_count": 180,
   "id": "suspended-restaurant",
   "metadata": {},
   "outputs": [],
   "source": [
    "import numpy as np"
   ]
  },
  {
   "cell_type": "code",
   "execution_count": 163,
   "id": "filled-louisiana",
   "metadata": {},
   "outputs": [],
   "source": [
    "sp = spm.SentencePieceProcessor(model_file='Models/Tokenizer/bnc_2048_bpe.model', nbest_size=-2)"
   ]
  },
  {
   "cell_type": "code",
   "execution_count": 164,
   "id": "innovative-silver",
   "metadata": {},
   "outputs": [
    {
     "data": {
      "text/plain": [
       "['▁hel', 'lo']"
      ]
     },
     "execution_count": 164,
     "metadata": {},
     "output_type": "execute_result"
    }
   ],
   "source": [
    "sp.encode('Hello'.lower(), out_type=str)"
   ]
  },
  {
   "cell_type": "code",
   "execution_count": 173,
   "id": "seven-thirty",
   "metadata": {},
   "outputs": [
    {
     "data": {
      "text/plain": [
       "2048"
      ]
     },
     "execution_count": 173,
     "metadata": {},
     "output_type": "execute_result"
    }
   ],
   "source": [
    "sp.vocab_size()"
   ]
  },
  {
   "cell_type": "code",
   "execution_count": null,
   "id": "devoted-diameter",
   "metadata": {},
   "outputs": [],
   "source": [
    "np.apply_along_axis()"
   ]
  },
  {
   "cell_type": "code",
   "execution_count": 192,
   "id": "wound-personal",
   "metadata": {},
   "outputs": [
    {
     "data": {
      "text/plain": [
       "[['▁ton',\n",
       "  'i',\n",
       "  '▁lo',\n",
       "  'p',\n",
       "  'op',\n",
       "  'o',\n",
       "  'lo',\n",
       "  '▁is',\n",
       "  '▁a',\n",
       "  '▁li',\n",
       "  'ter',\n",
       "  'ary',\n",
       "  '▁ag',\n",
       "  'ent',\n",
       "  '▁wh',\n",
       "  'ose',\n",
       "  '▁book',\n",
       "  '▁p',\n",
       "  'ublish',\n",
       "  'ing',\n",
       "  '▁care',\n",
       "  'er',\n",
       "  '▁be',\n",
       "  'gan',\n",
       "  '▁in',\n",
       "  '▁',\n",
       "  '1970',\n",
       "  '▁in',\n",
       "  '▁the',\n",
       "  '▁p',\n",
       "  'ub',\n",
       "  'lic',\n",
       "  'ity',\n",
       "  '▁de',\n",
       "  'part',\n",
       "  'ment',\n",
       "  '▁o',\n",
       "  'f',\n",
       "  '▁b',\n",
       "  'ant',\n",
       "  'am',\n",
       "  '▁book',\n",
       "  's',\n",
       "  ',',\n",
       "  '▁wh',\n",
       "  'ere',\n",
       "  '▁sh',\n",
       "  'e',\n",
       "  '▁help',\n",
       "  'ed',\n",
       "  '▁p',\n",
       "  'ub',\n",
       "  'lic',\n",
       "  'ize',\n",
       "  '▁auth',\n",
       "  'ors',\n",
       "  '▁su',\n",
       "  'ch',\n",
       "  '▁as',\n",
       "  '▁wh',\n",
       "  'ic',\n",
       "  'h',\n",
       "  '▁english',\n",
       "  '▁author',\n",
       "  '▁o',\n",
       "  'f',\n",
       "  '▁ro',\n",
       "  'm',\n",
       "  'ance',\n",
       "  '▁no',\n",
       "  'vel',\n",
       "  's',\n",
       "  ',',\n",
       "  '▁',\n",
       "  'one',\n",
       "  '▁o',\n",
       "  'f',\n",
       "  '▁the',\n",
       "  '▁b',\n",
       "  'est',\n",
       "  '-',\n",
       "  's',\n",
       "  'elling',\n",
       "  '▁auth',\n",
       "  'ors',\n",
       "  '▁as',\n",
       "  '▁w',\n",
       "  'ell',\n",
       "  '▁as',\n",
       "  '▁',\n",
       "  'one',\n",
       "  '▁o',\n",
       "  'f',\n",
       "  '▁the',\n",
       "  '▁m',\n",
       "  'os',\n",
       "  't',\n",
       "  '▁pro',\n",
       "  'li',\n",
       "  'fic',\n",
       "  '▁',\n",
       "  'and',\n",
       "  '▁commerci',\n",
       "  'ally',\n",
       "  '▁su',\n",
       "  'ccess',\n",
       "  'ful',\n",
       "  '▁wor',\n",
       "  'ld',\n",
       "  'w',\n",
       "  'ide',\n",
       "  '▁o',\n",
       "  'f',\n",
       "  '▁the',\n",
       "  '▁tw',\n",
       "  'enti',\n",
       "  'e',\n",
       "  'th',\n",
       "  '▁cent',\n",
       "  'ur',\n",
       "  'y',\n",
       "  ',',\n",
       "  '▁with',\n",
       "  '▁h',\n",
       "  'er',\n",
       "  '▁',\n",
       "  '723',\n",
       "  '▁no',\n",
       "  'vel',\n",
       "  's',\n",
       "  '▁w',\n",
       "  'ere',\n",
       "  '▁transl',\n",
       "  'ated',\n",
       "  '▁int',\n",
       "  'o',\n",
       "  '▁',\n",
       "  '38',\n",
       "  '▁l',\n",
       "  'ang',\n",
       "  'u',\n",
       "  'ages',\n",
       "  '▁',\n",
       "  'and',\n",
       "  '▁sh',\n",
       "  'e',\n",
       "  '▁contin',\n",
       "  'ues',\n",
       "  '▁to',\n",
       "  '▁be',\n",
       "  '▁refer',\n",
       "  'enced',\n",
       "  '▁in',\n",
       "  '▁the',\n",
       "  '▁',\n",
       "  '\"',\n",
       "  'gu',\n",
       "  'in',\n",
       "  'ness',\n",
       "  '▁wor',\n",
       "  'ld',\n",
       "  '▁rec',\n",
       "  'ords',\n",
       "  '\"',\n",
       "  '▁for',\n",
       "  '▁the',\n",
       "  '▁m',\n",
       "  'os',\n",
       "  't',\n",
       "  '▁no',\n",
       "  'vel',\n",
       "  's',\n",
       "  '▁p',\n",
       "  'ublish',\n",
       "  'ed',\n",
       "  '▁in',\n",
       "  '▁a',\n",
       "  '▁sing',\n",
       "  'le',\n",
       "  '▁y',\n",
       "  'ear',\n",
       "  '▁in',\n",
       "  '▁',\n",
       "  '1976?']]"
      ]
     },
     "execution_count": 192,
     "metadata": {},
     "output_type": "execute_result"
    }
   ],
   "source": [
    "sp.encode(sample_question.question.str.lower().tolist(), out_type=str)"
   ]
  },
  {
   "cell_type": "markdown",
   "id": "unlikely-condition",
   "metadata": {},
   "source": [
    "# Prod Test Questions:\n",
    "- What is the butlerian jihad?\n",
    "- What is the Sasser Cup?\n",
    "  - Which teams have won it more than 10 times?\n",
    "- How many Indiana Jones novels are there?\n",
    "    - How many were published by Bantam Books?\n",
    "    - What is the best one?"
   ]
  },
  {
   "cell_type": "markdown",
   "id": "frozen-revolution",
   "metadata": {},
   "source": []
  },
  {
   "cell_type": "code",
   "execution_count": null,
   "id": "beneficial-designation",
   "metadata": {},
   "outputs": [],
   "source": []
  }
 ],
 "metadata": {
  "kernelspec": {
   "display_name": "Python 3",
   "language": "python",
   "name": "python3"
  },
  "language_info": {
   "codemirror_mode": {
    "name": "ipython",
    "version": 3
   },
   "file_extension": ".py",
   "mimetype": "text/x-python",
   "name": "python",
   "nbconvert_exporter": "python",
   "pygments_lexer": "ipython3",
   "version": "3.8.8"
  },
  "toc-autonumbering": true
 },
 "nbformat": 4,
 "nbformat_minor": 5
}
